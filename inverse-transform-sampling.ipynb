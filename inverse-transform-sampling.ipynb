{
 "cells": [
  {
   "cell_type": "markdown",
   "metadata": {},
   "source": [
    "# Inverse Transform Sampling\n",
    "\n",
    "![Storm Trooper](images/impsam_stormtrooper.png)\n",
    "\n",
    "예를 들어서 게임을 개발하고 있다고 가정합니다. <br>\n",
    "게임의 재미를 위해서 게임속 스톰 트루퍼의 능력을 10%는 강하게, 20%는 약하게, 나머지 70%는 평균적 능력으로 설정을 합니다. <br>\n",
    "\n",
    "$$ \\text{Probability} = \\{ \\text{Weak}: 0.2, \\text{Standard}: 0.7, \\text{Strong}: 0.2\\} $$\n",
    "\n",
    "$$ \\begin{align}\n",
    "\\text{CDF} =  \\{& P[Ability = Weak] = 0.2, \\\\\n",
    "& P[Ability = Weak or Standard] = 0.9,  \\\\\n",
    "& P[Ability = Weak or Standard or Strong] = 1 \\} \n",
    "\\end{align} $$\n",
    "\n",
    "![Storm Trooper2](images/impsam_stormtrooper2.png)\n",
    "\n",
    "\n",
    "위의 distribution을 simulate하는 방법으로 가장 쉬운 방법은 pre-allocate하는 방법입니다.<br>\n",
    "즉 10명의 스톰트루퍼가 있다면, 2명은 약하게, 1명은 강하게, 나머지는 기본설정으로 미리 설정을 합니다.<br>\n",
    "문제는 이렇게 하면 게임이 너무 예측가능해지며, 실제 inverse sampling을 구현할때 샘플들의 갯수를 모르는 경우가 많습니다.\n",
    "\n",
    "\n",
    "**포인트는 현재 CDF를 알고있고, CDF를 갖고서 원하는 알고리즘을 replicate하는 것입니다.**<br>\n",
    "방법은 매우 간단합니다.\n",
    "\n",
    "1. 0~1사이의 random value를 uniform distribution으로 생성합니다.\n",
    "2. 생성한 random value의 값이...\n",
    "  - 0.2 이하: 약한놈을 생성\n",
    "  - 0.2 이상 0.9 이하 : 평범한 좀 생성\n",
    "  - 0.9 이상 1.0 이하 : 쌘놈 생성 "
   ]
  },
  {
   "cell_type": "code",
   "execution_count": null,
   "metadata": {},
   "outputs": [],
   "source": []
  }
 ],
 "metadata": {
  "kernelspec": {
   "display_name": "Python 3",
   "language": "python",
   "name": "python3"
  },
  "language_info": {
   "codemirror_mode": {
    "name": "ipython",
    "version": 3
   },
   "file_extension": ".py",
   "mimetype": "text/x-python",
   "name": "python",
   "nbconvert_exporter": "python",
   "pygments_lexer": "ipython3",
   "version": "3.6.1"
  }
 },
 "nbformat": 4,
 "nbformat_minor": 2
}
