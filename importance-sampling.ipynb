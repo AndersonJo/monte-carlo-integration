{
 "cells": [
  {
   "cell_type": "markdown",
   "metadata": {},
   "source": [
    "# Importance Sampling\n",
    "\n",
    "## Introduction to Importance Sampling\n",
    "\n",
    "아래의 토끼는 배경에서 반사된 빛을 받아서 다시 재반사(reflect)하여 카메라에 투영된 이미지의 모습니다. <br>\n",
    "\n",
    "![Illumination Integral Illustration](images/impsam_rabbit.jpg)\n",
    "\n",
    "3D rendering으로 나온 토끼의 이미지처럼, 특정 방향 $ L_i(\\mathbf{u}) $ 으로부터 들어오는 빛을 받아서, 카메라 $ \\mathbf{v} $ 방향으로 재반사 하기 위해서는, Bidirectional reflectance distribution function (BRDF) 라는 material function $ f $ 를 사용합니다.  전체 반사되는 빛 $ L_0(\\mathbf{v}) $ 의 양을 계산하기 위해서는 모든 각각의 방향 $ \\mathbf{u} $ 으로부터 오는 모든 빛을 합 하거나 또는 integration해야 합니다. 공식은 다음과 같습니다.\n",
    "\n",
    "$$ L_0(\\mathbf{v}) = \\int_H L_i(\\mathbf{u}) f(\\mathbf{u}, \\mathbf{v}) \\cos \\theta_u \\ du $$\n",
    "\n",
    "공식을 자세하게 알 필요는 없습니다. <br>\n",
    "포인트는 모든 방향에서는 오는 빛을 계산하여 반사되는 빛을 계산하여 적분하는것은 계산의 양이 너무나 많기 때문에 할 수 없는 방법입니다.<br>\n",
    "따라서 uniform distribution으로 랜덤으로 들어오는 빛을 samples로 integral을 계산합니다. 샘플들의 평균은 해당 integral의 approximation과도 같습니다.\n",
    "\n",
    "![Illumination Integral Illustration](images/impsam_light.jpg)\n",
    "\n",
    "\n",
    "<span style=\"color:#cc3333\">\n",
    "**만약 integrated function이 어떻게 작동하는줄 대략적으로 알고 있다면**</span>, <br>\n",
    "Uniform ramdom directions로부터 integral을 approximation하는 것은 좋은 방법이 아닙니다.<br>\n",
    "**예를 들어서 카메라에 반사되는 빛을 구하기 위해서, 사물에 닿는 모든 빛을 구하는게 아니라, 바로 거울 처럼 반사되는 지점에서 오는 빛을 samples로 사용하는 것이 좋을 것입니다.** 왜냐하면 대부분의 카메라에 반사되는 빛은 해당 방향으로부터 빛이 오기 때문입니다.\n",
    "\n",
    "수학적으로 표현하기 위해서, probability density function (PDF)를 사용하여 샘플링을 위한 최적의 방향을 정하게 됩니다.<br>\n",
    "PDF는 normalized function이며, PDF함수의 전체 도메인에 대한 integral의 값은 1이고, 샘플링에 가장 중요한 지점은 peaks로 나타나게 됩니다."
   ]
  },
  {
   "cell_type": "markdown",
   "metadata": {},
   "source": [
    "## No Prior Knowledge on the Integrated Function\n",
    "\n",
    "위에서 저런 가설이 사용가능한 이유는 Integrated function에 대해서 알고 있기 때문입니다. <br>\n",
    "하지만 **대부분의 경우에는 integrated function에 대해서 사전에 지식이 없는 경우가 대부분이며, 어느 부분이 중요한지 알아서 샘플링은 불가능 합니다.**\n",
    "\n",
    "여기서 Variance Reduction과 상충되게 됩니다.<br>\n",
    "Variance Reduction 은 integrated function에 대해서 사전에 알고 있어야 하지만 현실은 대부분의 경우 모른다는 것입니다. <br>\n",
    "\n",
    "해결책은 다음과 같습니다.<br>\n",
    "Integrand를 non-constant function에서 constant function으로 만들어주면 됩니다.\n",
    "\n",
    "![constant-function](images/impsam_uniform.png)\n"
   ]
  },
  {
   "cell_type": "markdown",
   "metadata": {},
   "source": [
    "만약 integrand <span style=\"color:#777777;\">( $ \\int f(x)\\ dx $ 에서 $ f(x) $ 를 가르킴)</span>의 결과값이 상수라면 uniform distribution을 사용하여 sample을 얻게 됩니다. 상수이기 때문에 approximation또한 결과값은 같으며, variance는 0입니다. \n",
    "\n",
    "사실상 이보다 더 좋은 케이스는 없지만, 현실에서 있을수 없는 이야기 입니다. <br>\n",
    "Non-constant function을 constant function으로 만들수 있는 방법은 다음과 같습니다.<br>\n",
    "함수를 자기자신과 나누어 버리면 항상 결과값은 1이 나오게 됩니다.<br>\n",
    "예를 들어서 $ f(0)=2 $ 일때  $ f(0)/2 = 1 $ 이 되고,  <br>\n",
    "$ f(2)=0.5 $ 일때 $ f(2)/0.5 = 1 $ 이 되게 됩니다.\n",
    "\n",
    "![function f(x) is divided by itset](images/impsam_divided_by_self.png)\n",
    "\n",
    "그림에서 왼쪽은 $ \\frac{f(x)}{f(x)} = 1 $ 했고, 오른쪽은 $ f(x) = cf'(x) $ constant factor를 이용해서 scaled up 또는 down을 했습니다. 따라서..\n",
    "\n",
    "$$ \\frac{f(x)}{f'(x)} = \\frac{1}{c} $$\n",
    "\n",
    "\n"
   ]
  },
  {
   "cell_type": "markdown",
   "metadata": {},
   "source": []
  }
 ],
 "metadata": {
  "kernelspec": {
   "display_name": "Python 3",
   "language": "python",
   "name": "python3"
  },
  "language_info": {
   "codemirror_mode": {
    "name": "ipython",
    "version": 3
   },
   "file_extension": ".py",
   "mimetype": "text/x-python",
   "name": "python",
   "nbconvert_exporter": "python",
   "pygments_lexer": "ipython3",
   "version": "3.6.1"
  }
 },
 "nbformat": 4,
 "nbformat_minor": 2
}
